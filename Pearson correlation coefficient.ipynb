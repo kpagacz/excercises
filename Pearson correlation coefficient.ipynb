{
 "cells": [
  {
   "cell_type": "markdown",
   "metadata": {},
   "source": [
    "#### General formula for Pearson's correlation coefficient\n",
    "Taken from [Wikipedia](https://en.wikipedia.org/wiki/Pearson_correlation_coefficient).\n",
    "\\begin{equation*}\n",
    "\\rho_{XY} = \\frac{Cov(X,Y)}{\\sigma_X \\sigma_Y}\n",
    "\\end{equation*}\n",
    "\n",
    "For particular n-element samples from the X and the Y distributions:\n",
    "\n",
    "\\begin{equation*}\n",
    "\\hat{\\rho}_{XY}= \\frac{\\sum_{i=1}^n{(x_i - \\mu_X)(y_i - \\mu_Y)}}{\\sqrt{\\sum_{i=1}^n(x_i - \\mu_X)^2}\\sqrt{\\sum_{i=1}^n(y_i - \\mu_Y)^2}}\n",
    "\\end{equation*}\n",
    "\n",
    "I am going to very simple implement this formula, because a simplification of the above equation is sometimes numerically unstable and implementing a more complex algorithm would defeat the purpose of this kernel being a demonstration of the Pearson's correlation coefficient."
   ]
  },
  {
   "cell_type": "code",
   "execution_count": 9,
   "metadata": {},
   "outputs": [],
   "source": [
    "##########################\n",
    "# Import libraries\n",
    "##########################\n",
    "import numpy as np\n",
    "\n",
    "# Declaring two vectors\n",
    "x = np.random.normal(loc=0, scale=1, size=50)\n",
    "y = x + np.random.normal(loc=0, scale=0.2, size=50)"
   ]
  },
  {
   "cell_type": "markdown",
   "metadata": {},
   "source": [
    "I derived the vector y from the vector x by adding to it a sample from a normal distribution with a low standard deviation, so the correlation should be positive and quite high, but we will see."
   ]
  },
  {
   "cell_type": "code",
   "execution_count": 26,
   "metadata": {},
   "outputs": [
    {
     "name": "stdout",
     "output_type": "stream",
     "text": [
      "0.9842099417406069\n"
     ]
    }
   ],
   "source": [
    "def pearson_r(x_, y_):\n",
    "    return np.sum((x_ - np.mean(x_)) * (y_ - np.mean(y_))) / np.sqrt(np.sum((x_ - np.mean(x_))**2)) / np.sqrt(np.sum((y_ - np.mean(y_))**2))\n",
    "\n",
    "print(pearson_r(x, y))"
   ]
  },
  {
   "cell_type": "markdown",
   "metadata": {},
   "source": [
    "And that is an outrageously inefficient way to calculate pearson's correlation coefficient!"
   ]
  }
 ],
 "metadata": {
  "kernelspec": {
   "display_name": "Python 3",
   "language": "python",
   "name": "python3"
  },
  "language_info": {
   "codemirror_mode": {
    "name": "ipython",
    "version": 3
   },
   "file_extension": ".py",
   "mimetype": "text/x-python",
   "name": "python",
   "nbconvert_exporter": "python",
   "pygments_lexer": "ipython3",
   "version": "3.6.7"
  }
 },
 "nbformat": 4,
 "nbformat_minor": 2
}
