{
 "cells": [
  {
   "cell_type": "markdown",
   "metadata": {},
   "source": [
    "##Introduction\n",
    "\n",
    "This is a demo of non-negative matrix factorization. It showcases how the NMF works on a random dataset and aims to enhance the understanding of the method.\n",
    "\n",
    "First imports:"
   ]
  },
  {
   "cell_type": "code",
   "execution_count": 1,
   "metadata": {},
   "outputs": [],
   "source": [
    "import numpy as np\n",
    "import pandas as pd\n",
    "from sklearn.decomposition import NMF"
   ]
  },
  {
   "cell_type": "code",
   "execution_count": 2,
   "metadata": {
    "scrolled": true
   },
   "outputs": [
    {
     "name": "stdout",
     "output_type": "stream",
     "text": [
      "   Feature 1  Feature 2  Feature 3  Feature 4  Feature 5\n",
      "A          9          9          6          7          8\n",
      "B          9          4          3          6          6\n",
      "C          1          7          6          0          1\n"
     ]
    }
   ],
   "source": [
    "orig = np.random.randint(low = 0, high = 10, size = 15).reshape(3, 5)\n",
    "orig = pd.DataFrame(orig, index = ['A', 'B', 'C'], columns = ['Feature 1', 'Feature 2', 'Feature 3', 'Feature 4', 'Feature 5'])\n",
    "print(orig)"
   ]
  },
  {
   "cell_type": "markdown",
   "metadata": {},
   "source": [
    "Exemplary dataset contains 3 samples. Each sample has 5 distinct features."
   ]
  },
  {
   "cell_type": "code",
   "execution_count": 3,
   "metadata": {
    "scrolled": true
   },
   "outputs": [
    {
     "name": "stdout",
     "output_type": "stream",
     "text": [
      "Transformed are:\n",
      " [[3.31133175 1.99597943]\n",
      " [3.05818389 0.        ]\n",
      " [0.06796699 3.36271342]]\n",
      "Components are:\n",
      "[[2.77203532 1.38736509 0.87307418 2.04351797 2.10051156]\n",
      " [0.15509109 2.09368364 1.71217267 0.         0.32484478]]\n"
     ]
    }
   ],
   "source": [
    "nmf = NMF(n_components = 2)\n",
    "transformed = nmf.fit_transform(orig)\n",
    "print('Transformed are:\\n {}'.format(transformed))\n",
    "components = nmf.components_\n",
    "print('Components are:\\n{}'.format(components))"
   ]
  },
  {
   "cell_type": "markdown",
   "metadata": {},
   "source": [
    "###Components\n",
    "\n",
    "The components contain information about the original features. Each component represents some features. Let us annotate the component and look at them."
   ]
  },
  {
   "cell_type": "code",
   "execution_count": 4,
   "metadata": {},
   "outputs": [
    {
     "name": "stdout",
     "output_type": "stream",
     "text": [
      "             Feature 1  Feature 2  Feature 3  Feature 4  Feature 5\n",
      "Component 1   2.772035   1.387365   0.873074   2.043518   2.100512\n",
      "Component 2   0.155091   2.093684   1.712173   0.000000   0.324845\n"
     ]
    }
   ],
   "source": [
    "comp_df = pd.DataFrame(components, columns = orig.columns, index = ['Component 1', 'Component 2'])\n",
    "print(comp_df)"
   ]
  },
  {
   "cell_type": "markdown",
   "metadata": {},
   "source": [
    "First component mainly tells about feature 1 and feature 4. Second component highlights feature 2 and feature 3."
   ]
  },
  {
   "cell_type": "markdown",
   "metadata": {},
   "source": [
    "###Transformed samples\n",
    "\n",
    "Each row of transformed matrix relates to one samples in the original data and columns determin the amount by which the sample is influenced by each component. Let us annotate them and looke at them."
   ]
  },
  {
   "cell_type": "code",
   "execution_count": 5,
   "metadata": {},
   "outputs": [
    {
     "name": "stdout",
     "output_type": "stream",
     "text": [
      "   Component 1  Component 2\n",
      "A     3.311332     1.995979\n",
      "B     3.058184     0.000000\n",
      "C     0.067967     3.362713\n"
     ]
    }
   ],
   "source": [
    "transf_df = pd.DataFrame(transformed, index = orig.index, columns = comp_df.index)\n",
    "print(transf_df)"
   ]
  },
  {
   "cell_type": "markdown",
   "metadata": {},
   "source": [
    "Transformed data can be used further down in the pipeline for machine learning, etc."
   ]
  },
  {
   "cell_type": "markdown",
   "metadata": {},
   "source": [
    "###Relationship between transformed, components and the original\n",
    "\n",
    "The idea is Transformed X Components = original data.\n",
    "\n",
    "Let us check that fact. First we calculate the dot product of the two matrices. "
   ]
  },
  {
   "cell_type": "code",
   "execution_count": 6,
   "metadata": {},
   "outputs": [
    {
     "name": "stdout",
     "output_type": "stream",
     "text": [
      "The dot product is: \n",
      " [[9.48868719 8.77297555 6.3084997  6.76676592 7.60387411]\n",
      " [8.47739376 4.24281756 2.6700214  6.24945372 6.42375062]\n",
      " [0.70993378 7.13475312 5.81688625 0.13889176 1.23512534]]\n",
      "The shape of the product is: (3, 5)\n"
     ]
    }
   ],
   "source": [
    "prod = np.dot(transformed, components)\n",
    "print('The dot product is: \\n {}'.format(prod))\n",
    "print('The shape of the product is: {}'.format(prod.shape))"
   ]
  },
  {
   "cell_type": "markdown",
   "metadata": {},
   "source": [
    "Size of the product is the same as the original data. Let us look, whether the values are similar compared to the original. We calculate the difference."
   ]
  },
  {
   "cell_type": "code",
   "execution_count": 7,
   "metadata": {},
   "outputs": [
    {
     "name": "stdout",
     "output_type": "stream",
     "text": [
      "The matrix of differences is:\n",
      "[[-0.48868719  0.22702445 -0.3084997   0.23323408  0.39612589]\n",
      " [ 0.52260624 -0.24281756  0.3299786  -0.24945372 -0.42375062]\n",
      " [ 0.29006622 -0.13475312  0.18311375 -0.13889176 -0.23512534]]\n"
     ]
    }
   ],
   "source": [
    "print('The matrix of differences is:\\n{}'.format(orig.values - prod))"
   ]
  },
  {
   "cell_type": "markdown",
   "metadata": {},
   "source": [
    "Seems that NMF wasn't far off. NMF is cute to interpret. I wonder how to visualize it.\n",
    "\n",
    "TO-DO:\n",
    "- [ ] Proof-read\n",
    "- [ ] Add visualization\n",
    "- [ ] Publish somewhere"
   ]
  }
 ],
 "metadata": {
  "kernelspec": {
   "display_name": "Python 3",
   "language": "python",
   "name": "python3"
  },
  "language_info": {
   "codemirror_mode": {
    "name": "ipython",
    "version": 3
   },
   "file_extension": ".py",
   "mimetype": "text/x-python",
   "name": "python",
   "nbconvert_exporter": "python",
   "pygments_lexer": "ipython3",
   "version": "3.6.5"
  }
 },
 "nbformat": 4,
 "nbformat_minor": 2
}
