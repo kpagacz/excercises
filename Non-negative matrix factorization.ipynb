{
 "cells": [
  {
   "cell_type": "markdown",
   "metadata": {},
   "source": [
    "##Introduction\n",
    "This is a demo of non-negative matrix factorization. It showcases how the NMF works on a random dataset and aims to enhance the understanding of the method.\n",
    "\n",
    "First imports:"
   ]
  },
  {
   "cell_type": "code",
   "execution_count": 3,
   "metadata": {},
   "outputs": [],
   "source": [
    "import numpy as np\n",
    "import pandas as pd\n",
    "from sklearn.decomposition import NMF"
   ]
  },
  {
   "cell_type": "code",
   "execution_count": 6,
   "metadata": {
    "scrolled": true
   },
   "outputs": [
    {
     "name": "stdout",
     "output_type": "stream",
     "text": [
      "   Feature 1  Feature 2  Feature 3  Feature 4  Feature 5\n",
      "A          8          2          6          7          8\n",
      "B          3          0          2          5          0\n",
      "C          0          6          4          1          1\n"
     ]
    }
   ],
   "source": [
    "orig = np.random.randint(low = 0, high = 10, size = 15).reshape(3, 5)\n",
    "orig = pd.DataFrame(orig, index = ['A', 'B', 'C'], columns = ['Feature 1', 'Feature 2', 'Feature 3', 'Feature 4', 'Feature 5'])\n",
    "print(orig)"
   ]
  },
  {
   "cell_type": "markdown",
   "metadata": {},
   "source": [
    "Exemplary dataset contains 3 samples. Each sample has 5 distinct features."
   ]
  },
  {
   "cell_type": "code",
   "execution_count": 21,
   "metadata": {},
   "outputs": [
    {
     "name": "stdout",
     "output_type": "stream",
     "text": [
      "Transformed are:\n",
      " [[3.60017113e+00 9.75377670e-01]\n",
      " [1.37488272e+00 0.00000000e+00]\n",
      " [2.91855955e-03 2.82341819e+00]]\n",
      "Components are:\n",
      "[[2.21700983 0.         1.30721035 2.09992816 1.82815341]\n",
      " [0.         2.11713041 1.40589378 0.25325465 0.46976818]]\n"
     ]
    }
   ],
   "source": [
    "nmf = NMF(n_components = 2)\n",
    "transformed = nmf.fit_transform(orig)\n",
    "print('Transformed are:\\n {}'.format(transformed))\n",
    "components = nmf.components_\n",
    "print('Components are:\\n{}'.format(features))"
   ]
  },
  {
   "cell_type": "markdown",
   "metadata": {},
   "source": [
    "###Components\n",
    "The components contain information about the original features. Each component represents some features. Let us annotate the component and look at them."
   ]
  },
  {
   "cell_type": "code",
   "execution_count": 27,
   "metadata": {},
   "outputs": [
    {
     "name": "stdout",
     "output_type": "stream",
     "text": [
      "             Feature 1  Feature 2  Feature 3  Feature 4  Feature 5\n",
      "Component 1    2.21701    0.00000   1.307210   2.099928   1.828153\n",
      "Component 2    0.00000    2.11713   1.405894   0.253255   0.469768\n"
     ]
    }
   ],
   "source": [
    "comp_df = pd.DataFrame(components, columns = orig.columns, index = ['Component 1', 'Component 2'])\n",
    "print(comp_df)"
   ]
  },
  {
   "cell_type": "markdown",
   "metadata": {},
   "source": [
    "First component mainly tells about feature 1 and feature 4. Second component highlights feature 2 and feature 3."
   ]
  },
  {
   "cell_type": "markdown",
   "metadata": {},
   "source": [
    "###Transformed samples\n",
    "Each row of transformed matrix relates to one samples in the original data and columns determin the amount by which the sample is influenced by each component. Let us annotate them and looke at them."
   ]
  },
  {
   "cell_type": "code",
   "execution_count": null,
   "metadata": {},
   "outputs": [],
   "source": [
    "transf_df = pd.DataFrame(transformed)"
   ]
  },
  {
   "cell_type": "markdown",
   "metadata": {},
   "source": [
    "The idea is Transformed X Components = original data.\n",
    "\n",
    "Let us check that fact. First we calculate the dot product of the two matrices. Then we"
   ]
  },
  {
   "cell_type": "code",
   "execution_count": 24,
   "metadata": {},
   "outputs": [
    {
     "name": "stdout",
     "output_type": "stream",
     "text": [
      "The dot product is: \n",
      " [[7.98161478e+00 2.06500173e+00 6.07745838e+00 7.80711966e+00\n",
      "  7.03986651e+00]\n",
      " [3.04812849e+00 0.00000000e+00 1.79726092e+00 2.88715493e+00\n",
      "  2.51349652e+00]\n",
      " [6.47047520e-03 5.97754451e+00 3.97324124e+00 7.21172549e-01\n",
      "  1.33168759e+00]]\n",
      "The shape of the product is: (3, 5)\n"
     ]
    }
   ],
   "source": [
    "prod = np.dot(transformed, components)\n",
    "print('The dot product is: \\n {}'.format(prod))\n",
    "print('The shape of the product is: {}'.format(prod.shape))"
   ]
  },
  {
   "cell_type": "markdown",
   "metadata": {},
   "source": [
    "Size of the product is the same as the original data. Let us look, whether the values are similar compared to the original. We calculate the difference."
   ]
  },
  {
   "cell_type": "code",
   "execution_count": 25,
   "metadata": {},
   "outputs": [
    {
     "name": "stdout",
     "output_type": "stream",
     "text": [
      "The matrix of differences is:\n",
      "[[ 0.01838522 -0.06500173 -0.07745838 -0.80711966  0.96013349]\n",
      " [-0.04812849  0.          0.20273908  2.11284507 -2.51349652]\n",
      " [-0.00647048  0.02245549  0.02675876  0.27882745 -0.33168759]]\n"
     ]
    }
   ],
   "source": [
    "print('The matrix of differences is:\\n{}'.format(orig.values - prod))"
   ]
  },
  {
   "cell_type": "markdown",
   "metadata": {},
   "source": []
  }
 ],
 "metadata": {
  "kernelspec": {
   "display_name": "Python 3",
   "language": "python",
   "name": "python3"
  },
  "language_info": {
   "codemirror_mode": {
    "name": "ipython",
    "version": 3
   },
   "file_extension": ".py",
   "mimetype": "text/x-python",
   "name": "python",
   "nbconvert_exporter": "python",
   "pygments_lexer": "ipython3",
   "version": "3.6.5"
  }
 },
 "nbformat": 4,
 "nbformat_minor": 2
}
