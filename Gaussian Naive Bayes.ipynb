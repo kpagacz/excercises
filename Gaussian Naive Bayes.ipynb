{
 "cells": [
  {
   "cell_type": "markdown",
   "metadata": {},
   "source": [
    "#### Gaussian Naive Bayes\n",
    "This kernel shows an implementation of Gaussian Naive Bayes classifier in python. It is supposed to be educational and represent principles of Naive Bayes classifier in a real-life example."
   ]
  },
  {
   "cell_type": "markdown",
   "metadata": {},
   "source": [
    "#### Dataset introduction\n",
    "Predict whether income exceeds \\$50K/yr based on census data. Also known as \"Census Income\" dataset.\n",
    "\n",
    "[Census Income dataset page at UCLI](https://archive.ics.uci.edu/ml/datasets/Adult)\n"
   ]
  },
  {
   "cell_type": "code",
   "execution_count": 7,
   "metadata": {},
   "outputs": [
    {
     "name": "stderr",
     "output_type": "stream",
     "text": [
      "4.00Mb [00:03, 1.06s/Mb]                                                                                               \n"
     ]
    }
   ],
   "source": [
    "#############################\n",
    "# Gaussian Naive Bayes\n",
    "#############################\n",
    "import pandas as pd\n",
    "import numpy as np\n",
    "import matplotlib.pyplot as plt\n",
    "import seaborn as sns\n",
    "\n",
    "sns.set_color_codes()\n",
    "\n",
    "\n",
    "# Dataset import\n",
    "import requests\n",
    "from tqdm import tqdm\n",
    "\n",
    "r = requests.get(\"https://archive.ics.uci.edu/ml/machine-learning-databases/adult/adult.data\", stream=True)\n",
    "total_size = int(r.headers[\"Content-Length\"])\n",
    "chunk_size = 1024*1024\n",
    "\n",
    "with open(\"data\", \"wb\") as handle:\n",
    "    for data in tqdm(r.iter_content(chunk_size),\n",
    "                     total=np.ceil(total_size//chunk_size),\n",
    "                     unit=\"Mb\",\n",
    "                     unit_scale=True):\n",
    "        handle.write(data)"
   ]
  },
  {
   "cell_type": "code",
   "execution_count": 22,
   "metadata": {},
   "outputs": [
    {
     "name": "stdout",
     "output_type": "stream",
     "text": [
      "Top of the file\n",
      "   0                  1       2           3   4                    5   \\\n",
      "0  39          State-gov   77516   Bachelors  13        Never-married   \n",
      "1  50   Self-emp-not-inc   83311   Bachelors  13   Married-civ-spouse   \n",
      "2  38            Private  215646     HS-grad   9             Divorced   \n",
      "3  53            Private  234721        11th   7   Married-civ-spouse   \n",
      "4  28            Private  338409   Bachelors  13   Married-civ-spouse   \n",
      "\n",
      "                   6               7       8        9     10  11  12  \\\n",
      "0        Adm-clerical   Not-in-family   White     Male  2174   0  40   \n",
      "1     Exec-managerial         Husband   White     Male     0   0  13   \n",
      "2   Handlers-cleaners   Not-in-family   White     Male     0   0  40   \n",
      "3   Handlers-cleaners         Husband   Black     Male     0   0  40   \n",
      "4      Prof-specialty            Wife   Black   Female     0   0  40   \n",
      "\n",
      "               13      14  \n",
      "0   United-States   <=50K  \n",
      "1   United-States   <=50K  \n",
      "2   United-States   <=50K  \n",
      "3   United-States   <=50K  \n",
      "4            Cuba   <=50K  \n"
     ]
    }
   ],
   "source": [
    "data = pd.read_csv(\"data\", header=None)\n",
    "\n",
    "print(\"Top of the file\")\n",
    "print(data.head())"
   ]
  },
  {
   "cell_type": "markdown",
   "metadata": {},
   "source": [
    "For the sake of simplicity I will restrict our data to only three columns - one continuous variable, one nominal and the label. I choose Age and Sex (columns \"0\" and \"9\")."
   ]
  },
  {
   "cell_type": "code",
   "execution_count": 23,
   "metadata": {},
   "outputs": [
    {
     "name": "stdout",
     "output_type": "stream",
     "text": [
      "The columns are now: Index(['Age', 'Gender', 'Income'], dtype='object')\n"
     ]
    }
   ],
   "source": [
    "data = data.iloc[:, [0, 9, 14]]\n",
    "\n",
    "data = data.rename(columns={0: \"Age\", 9: \"Gender\", 14: \"Income\"})\n",
    "\n",
    "print(\"The columns are now: {}\".format(data.columns))"
   ]
  },
  {
   "cell_type": "code",
   "execution_count": 30,
   "metadata": {},
   "outputs": [
    {
     "name": "stdout",
     "output_type": "stream",
     "text": [
      "                Age\n",
      "count  32561.000000\n",
      "mean      38.581647\n",
      "std       13.640433\n",
      "min       17.000000\n",
      "25%       28.000000\n",
      "50%       37.000000\n",
      "75%       48.000000\n",
      "max       90.000000\n",
      " Male      21790\n",
      " Female    10771\n",
      "Name: Gender, dtype: int64\n",
      " <=50K    24720\n",
      " >50K      7841\n",
      "Name: Income, dtype: int64\n"
     ]
    }
   ],
   "source": [
    "print(data.describe())\n",
    "print(data[\"Gender\"].value_counts())\n",
    "print(data[\"Income\"].value_counts())"
   ]
  },
  {
   "cell_type": "markdown",
   "metadata": {},
   "source": [
    "It looks like our dataset is not really a balanced one, since the number of people whose income is lower than 50K is around 3.5 times higher than people who earn at least 50K.\n",
    "Moreover there is twice the number of males in the dataset. Age is around 40 years old with the min and max in the expected margins.\n",
    "\n",
    "There is no missing values in the dataset."
   ]
  },
  {
   "cell_type": "markdown",
   "metadata": {},
   "source": [
    "#### Splitting the dataset\n",
    "For the purpose of showing how the Bayes is working on this dataset, I will split it into training and testing parts. Trianing will be named data and testing test."
   ]
  },
  {
   "cell_type": "code",
   "execution_count": 69,
   "metadata": {},
   "outputs": [
    {
     "name": "stdout",
     "output_type": "stream",
     "text": [
      "Length of test 5210 and length of training dataset 20839\n"
     ]
    }
   ],
   "source": [
    "test = data.sample(frac=0.2, random_state=13)\n",
    "data.drop(index=test.index, inplace=True)\n",
    "print(\"Length of test {} and length of training dataset {}\".format(len(test), len(data)))"
   ]
  },
  {
   "cell_type": "markdown",
   "metadata": {},
   "source": [
    "#### Bayes Theorem\n",
    "This kernel follow [a great explanation of NB inner workings](https://shuzhanfan.github.io/2018/06/understanding-mathematics-behind-naive-bayes/).\n",
    "\n",
    "Generally speaking my goal is to implement functions, which can calculate likelihoods and prior probabilities of a class and a predictor. That is the first step. The second step is to calculate probability of a case being in a class. Let us start off by showing off the equations we will be working with.\n",
    "\n",
    "\\begin{equation*}\n",
    "P(C_k | X) = \\frac {\\prod{P(x_i | C_k}) * P(C_k)}{P(X)}, \\text  {for k = 1, 2,..., K}\n",
    "\\end{equation*}\n",
    "\n",
    "where C_k is a class and X is a vector of features (in our case the 2 variables we have chosen from the whole Census dataset). I will call $P(C_k | X)$ posterior probability, $\\prod_i^n{P(x_i | C_k)}$ likelihood, $P(C_k)$ prior probability of a class and $P(X)$ prior probability of a predictor.\n",
    "\n",
    "Let us start off with a simple function to calculate the prior class probability. Since it does not change in the process of learning, we will swiftly assign in to a variable."
   ]
  },
  {
   "cell_type": "code",
   "execution_count": 36,
   "metadata": {},
   "outputs": [
    {
     "name": "stdout",
     "output_type": "stream",
     "text": [
      "{' <=50K': 0.7591904425539756, ' >50K': 0.2408095574460244}\n"
     ]
    }
   ],
   "source": [
    "def prior_class(class_vector):\n",
    "    return dict(class_vector.value_counts()/len(data))\n",
    "prior_probas = prior_class(data[\"Income\"])\n",
    "print(prior_probas)"
   ]
  },
  {
   "cell_type": "markdown",
   "metadata": {},
   "source": [
    "The next function calculated the prior predictor probability given a vector of the features. I will assume the Gaussian distribution of age in this population, so I will use the following equation to calculate $P(age)$\n",
    "\n",
    "\\begin{equation*}\n",
    "P_N(x | u, \\sigma^2) = \\frac {1}{\\sqrt {2 \\pi \\sigma^2}}e^{-{\\frac{(x-u)^2}{2 \\sigma^2}}}\n",
    "\\end{equation*}"
   ]
  },
  {
   "cell_type": "code",
   "execution_count": 61,
   "metadata": {},
   "outputs": [],
   "source": [
    "def normal_pdf(x, u, sigma_sq):\n",
    "    return 1/(np.sqrt(2 * np.pi * sigma_sq)) * np.e ** ((-(x - u)**2)/2/sigma_sq)\n",
    "\n",
    "def prior_predictor(feature_vector):\n",
    "    age_mean = np.mean(data[\"Age\"])\n",
    "    age_var = np.var(data[\"Age\"])\n",
    "    age_prob = normal_pdf(feature_vector[\"Age\"], age_mean, age_var)\n",
    "    \n",
    "    gender_probas = dict(data[\"Gender\"].value_counts()/len(data))\n",
    "    gender_prob = gender_probas[feature_vector[\"Gender\"]]\n",
    "    \n",
    "    return(age_prob * gender_prob)"
   ]
  },
  {
   "cell_type": "markdown",
   "metadata": {},
   "source": [
    "Following function calculates the likelihood."
   ]
  },
  {
   "cell_type": "code",
   "execution_count": 62,
   "metadata": {},
   "outputs": [],
   "source": [
    "def likelihood(class_, feature_vector):\n",
    "    # Subsetting the data\n",
    "    subset = data.loc[data[\"Income\"] == class_, :]\n",
    "    \n",
    "    # Calculating the age prior\n",
    "    age_mean = np.mean(subset[\"Age\"])\n",
    "    age_var = np.var(subset[\"Age\"])\n",
    "    age_prob = normal_pdf(feature_vector[\"Age\"], age_mean, age_var)\n",
    "    \n",
    "    # Calculating the gender prior\n",
    "    gender_probas = dict(subset[\"Gender\"].value_counts()/len(subset))\n",
    "    gender_prob = gender_probas[feature_vector[\"Gender\"]]\n",
    "    \n",
    "    return age_prob * gender_prob"
   ]
  },
  {
   "cell_type": "markdown",
   "metadata": {},
   "source": [
    "Mixing it altogether to create a function calculating the posterior probability."
   ]
  },
  {
   "cell_type": "code",
   "execution_count": 65,
   "metadata": {},
   "outputs": [],
   "source": [
    "def posterior(class_, feature_vector):\n",
    "    return likelihood(class_, feature_vector) * prior_probas[class_] / prior_predictor(feature_vector)"
   ]
  },
  {
   "cell_type": "markdown",
   "metadata": {},
   "source": [
    "Let us try out our function - calculate the posterior probability for the class of the first person in the dataset."
   ]
  },
  {
   "cell_type": "code",
   "execution_count": 67,
   "metadata": {},
   "outputs": [
    {
     "data": {
      "text/plain": [
       "0.6673929968532522"
      ]
     },
     "execution_count": 67,
     "metadata": {},
     "output_type": "execute_result"
    }
   ],
   "source": [
    "posterior(data.iloc[0, 2], data.iloc[0, :2])"
   ]
  },
  {
   "cell_type": "markdown",
   "metadata": {},
   "source": [
    "#### Bayes classifier\n",
    "Thus, I have created all the tools needed for the Bayes classifier to work. Now what is left is to calculate the predicted class of the train and test dataset, compare the accuracies and maybe plot a ROC curve."
   ]
  },
  {
   "cell_type": "code",
   "execution_count": null,
   "metadata": {},
   "outputs": [],
   "source": []
  }
 ],
 "metadata": {
  "kernelspec": {
   "display_name": "Python 3",
   "language": "python",
   "name": "python3"
  },
  "language_info": {
   "codemirror_mode": {
    "name": "ipython",
    "version": 3
   },
   "file_extension": ".py",
   "mimetype": "text/x-python",
   "name": "python",
   "nbconvert_exporter": "python",
   "pygments_lexer": "ipython3",
   "version": "3.6.7"
  }
 },
 "nbformat": 4,
 "nbformat_minor": 2
}
